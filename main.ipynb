{
 "cells": [
  {
   "cell_type": "code",
   "execution_count": 228,
   "metadata": {},
   "outputs": [],
   "source": [
    "import numpy as np\n",
    "import pandas as pd\n",
    "from sklearn.model_selection import train_test_split\n",
    "from tqdm.auto import tqdm\n",
    "from sklearn.preprocessing import StandardScaler"
   ]
  },
  {
   "cell_type": "code",
   "execution_count": 229,
   "metadata": {},
   "outputs": [],
   "source": [
    "train=pd.read_csv(\"./data/train.csv\")\n",
    "test=pd.read_csv(\"./data/test.csv\")\n",
    "train[\"Class\"]=train[\"Class\"].map({\"Kirmizi_Pistachio\":0,\"Siit_Pistachio\":1})\n",
    "X=train.drop(columns=[\"Class\"]).to_numpy()\n",
    "Y=train[\"Class\"].to_numpy()\n",
    "x_train,x_val,y_train,y_val=train_test_split(X,Y,test_size=0.2)\n",
    "scaler=StandardScaler()\n",
    "x_train=scaler.fit_transform(x_train)\n",
    "x_val=scaler.transform(x_val)"
   ]
  },
  {
   "cell_type": "code",
   "execution_count": 230,
   "metadata": {},
   "outputs": [
    {
     "data": {
      "text/html": [
       "<div>\n",
       "<style scoped>\n",
       "    .dataframe tbody tr th:only-of-type {\n",
       "        vertical-align: middle;\n",
       "    }\n",
       "\n",
       "    .dataframe tbody tr th {\n",
       "        vertical-align: top;\n",
       "    }\n",
       "\n",
       "    .dataframe thead th {\n",
       "        text-align: right;\n",
       "    }\n",
       "</style>\n",
       "<table border=\"1\" class=\"dataframe\">\n",
       "  <thead>\n",
       "    <tr style=\"text-align: right;\">\n",
       "      <th></th>\n",
       "      <th>AREA</th>\n",
       "      <th>PERIMETER</th>\n",
       "      <th>MAJOR_AXIS</th>\n",
       "      <th>MINOR_AXIS</th>\n",
       "      <th>ECCENTRICITY</th>\n",
       "      <th>EQDIASQ</th>\n",
       "      <th>SOLIDITY</th>\n",
       "      <th>CONVEX_AREA</th>\n",
       "      <th>EXTENT</th>\n",
       "      <th>ASPECT_RATIO</th>\n",
       "      <th>ROUNDNESS</th>\n",
       "      <th>COMPACTNESS</th>\n",
       "      <th>SHAPEFACTOR_1</th>\n",
       "      <th>SHAPEFACTOR_2</th>\n",
       "      <th>SHAPEFACTOR_3</th>\n",
       "      <th>SHAPEFACTOR_4</th>\n",
       "      <th>Class</th>\n",
       "    </tr>\n",
       "  </thead>\n",
       "  <tbody>\n",
       "    <tr>\n",
       "      <th>0</th>\n",
       "      <td>73107</td>\n",
       "      <td>1161.8070</td>\n",
       "      <td>442.4074</td>\n",
       "      <td>217.7261</td>\n",
       "      <td>0.8705</td>\n",
       "      <td>305.0946</td>\n",
       "      <td>0.9424</td>\n",
       "      <td>77579</td>\n",
       "      <td>0.7710</td>\n",
       "      <td>2.0319</td>\n",
       "      <td>0.6806</td>\n",
       "      <td>0.6896</td>\n",
       "      <td>0.0061</td>\n",
       "      <td>0.0030</td>\n",
       "      <td>0.4756</td>\n",
       "      <td>0.9664</td>\n",
       "      <td>0</td>\n",
       "    </tr>\n",
       "    <tr>\n",
       "      <th>1</th>\n",
       "      <td>89272</td>\n",
       "      <td>1173.1810</td>\n",
       "      <td>460.2551</td>\n",
       "      <td>251.9546</td>\n",
       "      <td>0.8369</td>\n",
       "      <td>337.1419</td>\n",
       "      <td>0.9641</td>\n",
       "      <td>92598</td>\n",
       "      <td>0.7584</td>\n",
       "      <td>1.8267</td>\n",
       "      <td>0.8151</td>\n",
       "      <td>0.7325</td>\n",
       "      <td>0.0052</td>\n",
       "      <td>0.0028</td>\n",
       "      <td>0.5366</td>\n",
       "      <td>0.9802</td>\n",
       "      <td>1</td>\n",
       "    </tr>\n",
       "    <tr>\n",
       "      <th>2</th>\n",
       "      <td>60955</td>\n",
       "      <td>999.7890</td>\n",
       "      <td>386.9247</td>\n",
       "      <td>209.1255</td>\n",
       "      <td>0.8414</td>\n",
       "      <td>278.5863</td>\n",
       "      <td>0.9465</td>\n",
       "      <td>64400</td>\n",
       "      <td>0.7263</td>\n",
       "      <td>1.8502</td>\n",
       "      <td>0.7663</td>\n",
       "      <td>0.7200</td>\n",
       "      <td>0.0063</td>\n",
       "      <td>0.0034</td>\n",
       "      <td>0.5184</td>\n",
       "      <td>0.9591</td>\n",
       "      <td>0</td>\n",
       "    </tr>\n",
       "    <tr>\n",
       "      <th>3</th>\n",
       "      <td>79537</td>\n",
       "      <td>1439.5129</td>\n",
       "      <td>466.7973</td>\n",
       "      <td>221.2136</td>\n",
       "      <td>0.8806</td>\n",
       "      <td>318.2289</td>\n",
       "      <td>0.9437</td>\n",
       "      <td>84281</td>\n",
       "      <td>0.7568</td>\n",
       "      <td>2.1102</td>\n",
       "      <td>0.4823</td>\n",
       "      <td>0.6817</td>\n",
       "      <td>0.0059</td>\n",
       "      <td>0.0028</td>\n",
       "      <td>0.4648</td>\n",
       "      <td>0.9807</td>\n",
       "      <td>0</td>\n",
       "    </tr>\n",
       "    <tr>\n",
       "      <th>4</th>\n",
       "      <td>96395</td>\n",
       "      <td>1352.6740</td>\n",
       "      <td>515.8730</td>\n",
       "      <td>246.5945</td>\n",
       "      <td>0.8784</td>\n",
       "      <td>350.3340</td>\n",
       "      <td>0.9549</td>\n",
       "      <td>100950</td>\n",
       "      <td>0.7428</td>\n",
       "      <td>2.0920</td>\n",
       "      <td>0.6620</td>\n",
       "      <td>0.6791</td>\n",
       "      <td>0.0054</td>\n",
       "      <td>0.0026</td>\n",
       "      <td>0.4612</td>\n",
       "      <td>0.9648</td>\n",
       "      <td>0</td>\n",
       "    </tr>\n",
       "  </tbody>\n",
       "</table>\n",
       "</div>"
      ],
      "text/plain": [
       "    AREA  PERIMETER  MAJOR_AXIS  MINOR_AXIS  ECCENTRICITY   EQDIASQ  SOLIDITY  \\\n",
       "0  73107  1161.8070    442.4074    217.7261        0.8705  305.0946    0.9424   \n",
       "1  89272  1173.1810    460.2551    251.9546        0.8369  337.1419    0.9641   \n",
       "2  60955   999.7890    386.9247    209.1255        0.8414  278.5863    0.9465   \n",
       "3  79537  1439.5129    466.7973    221.2136        0.8806  318.2289    0.9437   \n",
       "4  96395  1352.6740    515.8730    246.5945        0.8784  350.3340    0.9549   \n",
       "\n",
       "   CONVEX_AREA  EXTENT  ASPECT_RATIO  ROUNDNESS  COMPACTNESS  SHAPEFACTOR_1  \\\n",
       "0        77579  0.7710        2.0319     0.6806       0.6896         0.0061   \n",
       "1        92598  0.7584        1.8267     0.8151       0.7325         0.0052   \n",
       "2        64400  0.7263        1.8502     0.7663       0.7200         0.0063   \n",
       "3        84281  0.7568        2.1102     0.4823       0.6817         0.0059   \n",
       "4       100950  0.7428        2.0920     0.6620       0.6791         0.0054   \n",
       "\n",
       "   SHAPEFACTOR_2  SHAPEFACTOR_3  SHAPEFACTOR_4  Class  \n",
       "0         0.0030         0.4756         0.9664      0  \n",
       "1         0.0028         0.5366         0.9802      1  \n",
       "2         0.0034         0.5184         0.9591      0  \n",
       "3         0.0028         0.4648         0.9807      0  \n",
       "4         0.0026         0.4612         0.9648      0  "
      ]
     },
     "execution_count": 230,
     "metadata": {},
     "output_type": "execute_result"
    }
   ],
   "source": [
    "train.head()"
   ]
  },
  {
   "cell_type": "code",
   "execution_count": 231,
   "metadata": {},
   "outputs": [
    {
     "data": {
      "application/vnd.jupyter.widget-view+json": {
       "model_id": "4a7ce59514ed4c0fa0b6420884fff8a2",
       "version_major": 2,
       "version_minor": 0
      },
      "text/plain": [
       "  0%|          | 0/344 [00:00<?, ?it/s]"
      ]
     },
     "metadata": {},
     "output_type": "display_data"
    },
    {
     "data": {
      "application/vnd.jupyter.widget-view+json": {
       "model_id": "5f269682b2c64af1b00865b2ae5e52f8",
       "version_major": 2,
       "version_minor": 0
      },
      "text/plain": [
       "  0%|          | 0/1374 [00:00<?, ?it/s]"
      ]
     },
     "metadata": {},
     "output_type": "display_data"
    }
   ],
   "source": [
    "import Model\n",
    "knn=Model.KNN(X=x_train,Y=y_train)\n",
    "y_val_pred=knn.predict(x_val,30)\n",
    "y_train_pred=knn.predict(x_train,30)"
   ]
  },
  {
   "cell_type": "code",
   "execution_count": 232,
   "metadata": {},
   "outputs": [
    {
     "data": {
      "text/plain": [
       "(0.8524886877828054, 0.8482758620689655)"
      ]
     },
     "execution_count": 232,
     "metadata": {},
     "output_type": "execute_result"
    }
   ],
   "source": [
    "from sklearn.metrics import f1_score\n",
    "f1_score(y_true=y_train,y_pred=y_train_pred),f1_score(y_true=y_val,y_pred=y_val_pred)"
   ]
  },
  {
   "cell_type": "code",
   "execution_count": null,
   "metadata": {},
   "outputs": [],
   "source": []
  }
 ],
 "metadata": {
  "kernelspec": {
   "display_name": "AI",
   "language": "python",
   "name": "python3"
  },
  "language_info": {
   "codemirror_mode": {
    "name": "ipython",
    "version": 3
   },
   "file_extension": ".py",
   "mimetype": "text/x-python",
   "name": "python",
   "nbconvert_exporter": "python",
   "pygments_lexer": "ipython3",
   "version": "3.10.12"
  }
 },
 "nbformat": 4,
 "nbformat_minor": 2
}
